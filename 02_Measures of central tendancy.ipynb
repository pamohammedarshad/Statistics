{
 "cells": [
  {
   "cell_type": "code",
   "execution_count": 1,
   "id": "9eb3445e",
   "metadata": {},
   "outputs": [],
   "source": [
    "import numpy as np\n",
    "from scipy import stats"
   ]
  },
  {
   "cell_type": "code",
   "execution_count": 2,
   "id": "a63617e4",
   "metadata": {},
   "outputs": [],
   "source": [
    "array1=np.array([1,2,3,4,5])\n",
    "array2=np.array([1,2,3,4,5,500])\n",
    "array3=np.array([7,4,21,81,64,116])\n",
    "array4=np.array([12,16,84,69])"
   ]
  },
  {
   "cell_type": "code",
   "execution_count": 3,
   "id": "3a15bfe4",
   "metadata": {},
   "outputs": [
    {
     "name": "stdout",
     "output_type": "stream",
     "text": [
      "Mean of array 1 3.0\n",
      "Mean of array 2 85.83333333333333\n",
      "Mean of array 3 48.833333333333336\n",
      "Mean of array 4 45.25\n"
     ]
    }
   ],
   "source": [
    "print(\"Mean of array 1\",np.mean(array1))\n",
    "print(\"Mean of array 2\",np.mean(array2))\n",
    "print(\"Mean of array 3\",np.mean(array3))\n",
    "print(\"Mean of array 4\",np.mean(array4))"
   ]
  },
  {
   "cell_type": "code",
   "execution_count": 4,
   "id": "8092ada1",
   "metadata": {},
   "outputs": [
    {
     "name": "stdout",
     "output_type": "stream",
     "text": [
      "Median of array 1 3.0\n",
      "Median of array 2 3.5\n",
      "Median of array 3 42.5\n",
      "Median of array 4 42.5\n"
     ]
    }
   ],
   "source": [
    "print(\"Median of array 1\",np.median(array1))\n",
    "print(\"Median of array 2\",np.median(array2))\n",
    "print(\"Median of array 3\",np.median(array3))\n",
    "print(\"Median of array 4\",np.median(array4))"
   ]
  },
  {
   "cell_type": "code",
   "execution_count": 5,
   "id": "3857f185",
   "metadata": {},
   "outputs": [],
   "source": [
    "array6=np.array([1,1,7,5,4,6])"
   ]
  },
  {
   "cell_type": "code",
   "execution_count": 6,
   "id": "a03ca0ce",
   "metadata": {},
   "outputs": [],
   "source": [
    "array5=np.array([1,1,2,2,3,4,5])"
   ]
  },
  {
   "cell_type": "code",
   "execution_count": 7,
   "id": "0505ef8f",
   "metadata": {},
   "outputs": [
    {
     "name": "stdout",
     "output_type": "stream",
     "text": [
      "mode of array 5 ModeResult(mode=array([1]), count=array([2]))\n"
     ]
    }
   ],
   "source": [
    "print(\"mode of array 5\",stats.mode(array5))"
   ]
  },
  {
   "cell_type": "code",
   "execution_count": 8,
   "id": "d3f3eef1",
   "metadata": {},
   "outputs": [
    {
     "name": "stdout",
     "output_type": "stream",
     "text": [
      "mode of array 6 ModeResult(mode=array([1]), count=array([2]))\n"
     ]
    }
   ],
   "source": [
    "print(\"mode of array 6\",stats.mode(array6))"
   ]
  },
  {
   "cell_type": "code",
   "execution_count": 9,
   "id": "16f6155d",
   "metadata": {},
   "outputs": [
    {
     "name": "stdout",
     "output_type": "stream",
     "text": [
      "Q1 2.0\n"
     ]
    }
   ],
   "source": [
    "print(\"Q1\",np.quantile(array1,0.25))"
   ]
  },
  {
   "cell_type": "code",
   "execution_count": 10,
   "id": "608a3651",
   "metadata": {},
   "outputs": [
    {
     "name": "stdout",
     "output_type": "stream",
     "text": [
      "Q2 3.0\n"
     ]
    }
   ],
   "source": [
    "print(\"Q2\",np.quantile(array1,0.50))"
   ]
  },
  {
   "cell_type": "code",
   "execution_count": 11,
   "id": "a3c928b1",
   "metadata": {},
   "outputs": [
    {
     "name": "stdout",
     "output_type": "stream",
     "text": [
      "Q3 4.0\n"
     ]
    }
   ],
   "source": [
    "print(\"Q3\",np.quantile(array1,0.75))"
   ]
  },
  {
   "cell_type": "code",
   "execution_count": 12,
   "id": "b65704e9",
   "metadata": {},
   "outputs": [],
   "source": [
    "array7=np.array([2,3,1,4,5])"
   ]
  },
  {
   "cell_type": "code",
   "execution_count": 13,
   "id": "8a16ddff",
   "metadata": {},
   "outputs": [
    {
     "name": "stdout",
     "output_type": "stream",
     "text": [
      "Q1 2.0\n",
      "Q2 3.0\n",
      "Q3 4.0\n"
     ]
    }
   ],
   "source": [
    "print(\"Q1\",np.quantile(array1,0.25))\n",
    "print(\"Q2\",np.quantile(array1,0.50))\n",
    "print(\"Q3\",np.quantile(array1,0.75))"
   ]
  },
  {
   "cell_type": "markdown",
   "id": "8541bd7b",
   "metadata": {},
   "source": [
    "###  Measures of dispersion"
   ]
  },
  {
   "cell_type": "code",
   "execution_count": 14,
   "id": "d909fedd",
   "metadata": {},
   "outputs": [
    {
     "name": "stdout",
     "output_type": "stream",
     "text": [
      "Range 528\n"
     ]
    }
   ],
   "source": [
    "a=np.array([141,123,552,123,651,162])\n",
    "print(\"Range\",a.max()-a.min())"
   ]
  },
  {
   "cell_type": "code",
   "execution_count": 15,
   "id": "a92ea054",
   "metadata": {},
   "outputs": [
    {
     "name": "stdout",
     "output_type": "stream",
     "text": [
      "[1 2 3 4 5]\n",
      "Variance 2.0\n"
     ]
    }
   ],
   "source": [
    "#Variannce\n",
    "print(array1)\n",
    "print(\"Variance\",np.var(array1))"
   ]
  },
  {
   "cell_type": "code",
   "execution_count": 16,
   "id": "b80fdc57",
   "metadata": {},
   "outputs": [
    {
     "name": "stdout",
     "output_type": "stream",
     "text": [
      "[  1   2   3   4   5 500]\n",
      "Variance 34308.47222222222\n"
     ]
    }
   ],
   "source": [
    "print(array2)\n",
    "print(\"Variance\",np.var(array2))"
   ]
  },
  {
   "cell_type": "code",
   "execution_count": 17,
   "id": "19ce1d42",
   "metadata": {},
   "outputs": [
    {
     "name": "stdout",
     "output_type": "stream",
     "text": [
      "Variance 0.01999999999999999\n"
     ]
    }
   ],
   "source": [
    "b=np.array([1.1,1.2,1.3,1.4,1.5])\n",
    "print(\"Variance\",np.var(b))"
   ]
  },
  {
   "cell_type": "code",
   "execution_count": 18,
   "id": "6306222f",
   "metadata": {},
   "outputs": [
    {
     "name": "stdout",
     "output_type": "stream",
     "text": [
      "Standard deviation 1.4142135623730951\n"
     ]
    }
   ],
   "source": [
    "print(\"Standard deviation\",np.std(array1))"
   ]
  },
  {
   "cell_type": "code",
   "execution_count": 19,
   "id": "82d955b0",
   "metadata": {},
   "outputs": [
    {
     "name": "stdout",
     "output_type": "stream",
     "text": [
      "Standard deviation 185.22546321233003\n"
     ]
    }
   ],
   "source": [
    "print(\"Standard deviation\",np.std(array2))"
   ]
  },
  {
   "cell_type": "code",
   "execution_count": 20,
   "id": "e62621bd",
   "metadata": {},
   "outputs": [
    {
     "name": "stdout",
     "output_type": "stream",
     "text": [
      "Standard deviation 0.14142135623730948\n"
     ]
    }
   ],
   "source": [
    "print(\"Standard deviation\",np.std(b))"
   ]
  },
  {
   "cell_type": "code",
   "execution_count": 21,
   "id": "7de2b9dd",
   "metadata": {},
   "outputs": [
    {
     "name": "stdout",
     "output_type": "stream",
     "text": [
      "[1 2 3 4 5]\n",
      "Q1 2.0\n",
      "Q3 4.0\n",
      "IOR 2.0\n"
     ]
    }
   ],
   "source": [
    "#Interquartile range\n",
    "print(array1)\n",
    "Q1=np.quantile(array1,0.25)\n",
    "Q3=np.quantile(array1,0.75)\n",
    "print(\"Q1\",Q1)\n",
    "print(\"Q3\",Q3)\n",
    "print(\"IOR\",Q3-Q1)"
   ]
  }
 ],
 "metadata": {
  "kernelspec": {
   "display_name": "Python 3",
   "language": "python",
   "name": "python3"
  },
  "language_info": {
   "codemirror_mode": {
    "name": "ipython",
    "version": 3
   },
   "file_extension": ".py",
   "mimetype": "text/x-python",
   "name": "python",
   "nbconvert_exporter": "python",
   "pygments_lexer": "ipython3",
   "version": "3.8.8"
  }
 },
 "nbformat": 4,
 "nbformat_minor": 5
}
