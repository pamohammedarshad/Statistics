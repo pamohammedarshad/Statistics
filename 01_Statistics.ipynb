{
 "cells": [
  {
   "cell_type": "code",
   "execution_count": 1,
   "id": "6a54806c",
   "metadata": {},
   "outputs": [],
   "source": [
    "import numpy as np"
   ]
  },
  {
   "cell_type": "code",
   "execution_count": 2,
   "id": "69992ff8",
   "metadata": {},
   "outputs": [],
   "source": [
    "import pandas as pd"
   ]
  },
  {
   "cell_type": "code",
   "execution_count": 3,
   "id": "7109d4a2",
   "metadata": {},
   "outputs": [],
   "source": [
    "from scipy import stats#or"
   ]
  },
  {
   "cell_type": "code",
   "execution_count": 4,
   "id": "fbb2c1da",
   "metadata": {},
   "outputs": [],
   "source": [
    "import statistics as stats"
   ]
  },
  {
   "cell_type": "markdown",
   "id": "f882b7ea",
   "metadata": {},
   "source": [
    "# Mean"
   ]
  },
  {
   "cell_type": "code",
   "execution_count": 5,
   "id": "e681aeb0",
   "metadata": {},
   "outputs": [],
   "source": [
    "arr=np.array([1,2,3,4,5])"
   ]
  },
  {
   "cell_type": "code",
   "execution_count": 6,
   "id": "8f77224f",
   "metadata": {},
   "outputs": [
    {
     "data": {
      "text/plain": [
       "3.0"
      ]
     },
     "execution_count": 6,
     "metadata": {},
     "output_type": "execute_result"
    }
   ],
   "source": [
    "arr.mean()"
   ]
  },
  {
   "cell_type": "code",
   "execution_count": 7,
   "id": "836767ea",
   "metadata": {},
   "outputs": [],
   "source": [
    "arr1=np.array([1,2,3,4,5,500])"
   ]
  },
  {
   "cell_type": "code",
   "execution_count": 8,
   "id": "bd3a0dd9",
   "metadata": {},
   "outputs": [
    {
     "data": {
      "text/plain": [
       "85.83333333333333"
      ]
     },
     "execution_count": 8,
     "metadata": {},
     "output_type": "execute_result"
    }
   ],
   "source": [
    "arr1.mean()"
   ]
  },
  {
   "cell_type": "code",
   "execution_count": 9,
   "id": "59d0ac19",
   "metadata": {},
   "outputs": [],
   "source": [
    "arr2=np.array([7,4,21,81,64,116])"
   ]
  },
  {
   "cell_type": "code",
   "execution_count": 10,
   "id": "0b323dae",
   "metadata": {},
   "outputs": [
    {
     "data": {
      "text/plain": [
       "48.833333333333336"
      ]
     },
     "execution_count": 10,
     "metadata": {},
     "output_type": "execute_result"
    }
   ],
   "source": [
    "arr2.mean()"
   ]
  },
  {
   "cell_type": "code",
   "execution_count": 11,
   "id": "2cb44c99",
   "metadata": {},
   "outputs": [],
   "source": [
    "arr3=np.array([12,16,84,69])"
   ]
  },
  {
   "cell_type": "code",
   "execution_count": 12,
   "id": "0bcf68e6",
   "metadata": {},
   "outputs": [
    {
     "data": {
      "text/plain": [
       "45.25"
      ]
     },
     "execution_count": 12,
     "metadata": {},
     "output_type": "execute_result"
    }
   ],
   "source": [
    "arr3.mean()"
   ]
  },
  {
   "cell_type": "code",
   "execution_count": 13,
   "id": "54d87d42",
   "metadata": {},
   "outputs": [],
   "source": [
    "arr4=np.array([1,1,7,5,4,6])"
   ]
  },
  {
   "cell_type": "code",
   "execution_count": 14,
   "id": "3f3be427",
   "metadata": {},
   "outputs": [
    {
     "data": {
      "text/plain": [
       "4.5"
      ]
     },
     "execution_count": 14,
     "metadata": {},
     "output_type": "execute_result"
    }
   ],
   "source": [
    "np.median(arr4)"
   ]
  },
  {
   "cell_type": "code",
   "execution_count": 15,
   "id": "51528939",
   "metadata": {},
   "outputs": [],
   "source": [
    "arr5=np.array([1,1,7,5,4])"
   ]
  },
  {
   "cell_type": "code",
   "execution_count": 16,
   "id": "2de49ea1",
   "metadata": {},
   "outputs": [
    {
     "data": {
      "text/plain": [
       "4.0"
      ]
     },
     "execution_count": 16,
     "metadata": {},
     "output_type": "execute_result"
    }
   ],
   "source": [
    "np.median(arr5)"
   ]
  },
  {
   "cell_type": "code",
   "execution_count": 17,
   "id": "17523ed1",
   "metadata": {},
   "outputs": [
    {
     "data": {
      "text/plain": [
       "1"
      ]
     },
     "execution_count": 17,
     "metadata": {},
     "output_type": "execute_result"
    }
   ],
   "source": [
    "sers = pd.Series([1,1,7,5,4])\n",
    "stats.mode(sers)"
   ]
  },
  {
   "cell_type": "code",
   "execution_count": 18,
   "id": "f05db3e1",
   "metadata": {},
   "outputs": [
    {
     "data": {
      "text/plain": [
       "1"
      ]
     },
     "execution_count": 18,
     "metadata": {},
     "output_type": "execute_result"
    }
   ],
   "source": [
    "sers1 = pd.Series([1,1,2,2,7,5,4])# bimodal still gives only one mode\n",
    "stats.mode(sers1)"
   ]
  },
  {
   "cell_type": "markdown",
   "id": "a4d5466c",
   "metadata": {},
   "source": [
    "# Quarniles"
   ]
  },
  {
   "cell_type": "code",
   "execution_count": 19,
   "id": "4aec5fb6",
   "metadata": {},
   "outputs": [
    {
     "data": {
      "text/plain": [
       "array([1, 2, 3, 4, 5])"
      ]
     },
     "execution_count": 19,
     "metadata": {},
     "output_type": "execute_result"
    }
   ],
   "source": [
    "arr"
   ]
  },
  {
   "cell_type": "code",
   "execution_count": 20,
   "id": "3cf8f01d",
   "metadata": {},
   "outputs": [
    {
     "name": "stdout",
     "output_type": "stream",
     "text": [
      "2.0\n"
     ]
    }
   ],
   "source": [
    "print(np.quantile(arr,0.25))"
   ]
  },
  {
   "cell_type": "code",
   "execution_count": 21,
   "id": "27590f45",
   "metadata": {},
   "outputs": [
    {
     "data": {
      "text/plain": [
       "2.0"
      ]
     },
     "execution_count": 21,
     "metadata": {},
     "output_type": "execute_result"
    }
   ],
   "source": [
    "ar= pd.Series([1,2,3,4,5])\n",
    "ar.quantile(0.25)"
   ]
  },
  {
   "cell_type": "code",
   "execution_count": 22,
   "id": "58c04891",
   "metadata": {},
   "outputs": [
    {
     "data": {
      "text/plain": [
       "3.0"
      ]
     },
     "execution_count": 22,
     "metadata": {},
     "output_type": "execute_result"
    }
   ],
   "source": [
    "ar= pd.Series([1,3,25,49,5000])\n",
    "ar.quantile(0.25)"
   ]
  },
  {
   "cell_type": "code",
   "execution_count": 24,
   "id": "e7e2ccee",
   "metadata": {},
   "outputs": [],
   "source": [
    "sales=np.array([23,4,5232,43,666,896])"
   ]
  },
  {
   "cell_type": "code",
   "execution_count": 25,
   "id": "da4869f5",
   "metadata": {},
   "outputs": [
    {
     "name": "stdout",
     "output_type": "stream",
     "text": [
      "Range 5228\n"
     ]
    }
   ],
   "source": [
    "print(\"Range\",sales.max()-sales.min())"
   ]
  },
  {
   "cell_type": "code",
   "execution_count": 26,
   "id": "86ae98ab",
   "metadata": {},
   "outputs": [
    {
     "data": {
      "text/plain": [
       "array([1, 2, 3, 4, 5])"
      ]
     },
     "execution_count": 26,
     "metadata": {},
     "output_type": "execute_result"
    }
   ],
   "source": [
    "arr"
   ]
  },
  {
   "cell_type": "code",
   "execution_count": 27,
   "id": "4b91fbd0",
   "metadata": {},
   "outputs": [
    {
     "data": {
      "text/plain": [
       "2.0"
      ]
     },
     "execution_count": 27,
     "metadata": {},
     "output_type": "execute_result"
    }
   ],
   "source": [
    "arr.var()"
   ]
  },
  {
   "cell_type": "code",
   "execution_count": 30,
   "id": "edf9e05d",
   "metadata": {},
   "outputs": [
    {
     "data": {
      "text/plain": [
       "array([  1,   2,   3,   4,   5, 500])"
      ]
     },
     "execution_count": 30,
     "metadata": {},
     "output_type": "execute_result"
    }
   ],
   "source": [
    "arr1"
   ]
  },
  {
   "cell_type": "code",
   "execution_count": 32,
   "id": "6b22f6b2",
   "metadata": {},
   "outputs": [
    {
     "data": {
      "text/plain": [
       "34308.47222222222"
      ]
     },
     "execution_count": 32,
     "metadata": {},
     "output_type": "execute_result"
    }
   ],
   "source": [
    "arr1.var()"
   ]
  },
  {
   "cell_type": "code",
   "execution_count": 33,
   "id": "45ceab4a",
   "metadata": {},
   "outputs": [],
   "source": [
    "ar2=np.array([1.1,1.2,1.3,1.4,1.5])"
   ]
  },
  {
   "cell_type": "code",
   "execution_count": 34,
   "id": "858122a0",
   "metadata": {},
   "outputs": [
    {
     "data": {
      "text/plain": [
       "0.01999999999999999"
      ]
     },
     "execution_count": 34,
     "metadata": {},
     "output_type": "execute_result"
    }
   ],
   "source": [
    "ar2.var()"
   ]
  },
  {
   "cell_type": "code",
   "execution_count": 35,
   "id": "eda0336e",
   "metadata": {},
   "outputs": [
    {
     "data": {
      "text/plain": [
       "185.22546321233003"
      ]
     },
     "execution_count": 35,
     "metadata": {},
     "output_type": "execute_result"
    }
   ],
   "source": [
    "arr1.std()"
   ]
  },
  {
   "cell_type": "code",
   "execution_count": 36,
   "id": "ddea6b22",
   "metadata": {},
   "outputs": [
    {
     "data": {
      "text/plain": [
       "0.14142135623730948"
      ]
     },
     "execution_count": 36,
     "metadata": {},
     "output_type": "execute_result"
    }
   ],
   "source": [
    "ar2.std()"
   ]
  },
  {
   "cell_type": "code",
   "execution_count": 37,
   "id": "dc88e67c",
   "metadata": {},
   "outputs": [
    {
     "data": {
      "text/plain": [
       "1.4142135623730951"
      ]
     },
     "execution_count": 37,
     "metadata": {},
     "output_type": "execute_result"
    }
   ],
   "source": [
    "arr.std()"
   ]
  },
  {
   "cell_type": "code",
   "execution_count": 45,
   "id": "260f4570",
   "metadata": {},
   "outputs": [
    {
     "name": "stdout",
     "output_type": "stream",
     "text": [
      "IQR: 29165.75\n",
      "49.0\n",
      "29214.75\n"
     ]
    }
   ],
   "source": [
    "sal = np.array([32,34,54,654,78867,23435,46554,767,])\n",
    "Q1 = np.quantile(sal,0.25)\n",
    "Q3 = np.quantile(sal,0.75)\n",
    "print(\"IQR:\",Q3-Q1)\n",
    "print(Q1)\n",
    "print(Q3)"
   ]
  }
 ],
 "metadata": {
  "kernelspec": {
   "display_name": "Python 3",
   "language": "python",
   "name": "python3"
  },
  "language_info": {
   "codemirror_mode": {
    "name": "ipython",
    "version": 3
   },
   "file_extension": ".py",
   "mimetype": "text/x-python",
   "name": "python",
   "nbconvert_exporter": "python",
   "pygments_lexer": "ipython3",
   "version": "3.8.8"
  }
 },
 "nbformat": 4,
 "nbformat_minor": 5
}
